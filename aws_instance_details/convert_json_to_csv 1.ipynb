{
 "cells": [
  {
   "cell_type": "code",
   "execution_count": 2,
   "id": "f3f8f363-36ad-4264-8418-3eb503dc460f",
   "metadata": {},
   "outputs": [],
   "source": [
    "import csv\n",
    "import json\n",
    "\n",
    "json_file_path = 'output.json'\n",
    "csv_file_path = 'instances.csv'"
   ]
  },
  {
   "cell_type": "code",
   "execution_count": 3,
   "id": "ce28aeb8",
   "metadata": {},
   "outputs": [],
   "source": [
    "with open(json_file_path, 'r') as json_file:\n",
    "    data = json.load(json_file)"
   ]
  },
  {
   "cell_type": "code",
   "execution_count": null,
   "id": "c2d6b309",
   "metadata": {},
   "outputs": [],
   "source": [
    "\n",
    "# Write data to CSV\n",
    "with open(csv_file_path, mode='w', newline='') as file:\n",
    "    writer = csv.writer(file)\n",
    "    \n",
    "    # Write header\n",
    "    header = [\"instance_id\", \"instance_state\", \"instance_type\", \"launch_time\", \"tags\"]\n",
    "    writer.writerow(header)\n",
    "    \n",
    "    # Write rows\n",
    "    for instance in data:\n",
    "        tags = \"; \".join([f\"{k}: {v}\" for tag in instance[\"instance_tags\"] for k, v in tag.items()])\n",
    "        row = [instance[\"instance_id\"], instance[\"instance_state\"], instance[\"instance_type\"], instance[\"launch_time\"], tags]\n",
    "        writer.writerow(row)\n",
    "\n",
    "print(f\"Data has been written to {csv_file_path}\")"
   ]
  }
 ],
 "metadata": {
  "kernelspec": {
   "display_name": "Python 3 (ipykernel)",
   "language": "python",
   "name": "python3"
  },
  "language_info": {
   "codemirror_mode": {
    "name": "ipython",
    "version": 3
   },
   "file_extension": ".py",
   "mimetype": "text/x-python",
   "name": "python",
   "nbconvert_exporter": "python",
   "pygments_lexer": "ipython3",
   "version": "3.12.3"
  }
 },
 "nbformat": 4,
 "nbformat_minor": 5
}
